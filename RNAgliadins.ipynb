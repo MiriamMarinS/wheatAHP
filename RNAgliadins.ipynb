{
 "cells": [
  {
   "cell_type": "code",
   "execution_count": 1,
   "id": "dying-authorization",
   "metadata": {},
   "outputs": [],
   "source": [
    "import pandas as pd\n",
    "from Bio import SeqIO"
   ]
  },
  {
   "cell_type": "markdown",
   "id": "developed-declaration",
   "metadata": {},
   "source": [
    "### Import RNA-seq data (TPM) for alpha and gamma-gliadin genes."
   ]
  },
  {
   "cell_type": "code",
   "execution_count": 54,
   "id": "satisfied-leave",
   "metadata": {},
   "outputs": [
    {
     "data": {
      "text/html": [
       "<div>\n",
       "<style scoped>\n",
       "    .dataframe tbody tr th:only-of-type {\n",
       "        vertical-align: middle;\n",
       "    }\n",
       "\n",
       "    .dataframe tbody tr th {\n",
       "        vertical-align: top;\n",
       "    }\n",
       "\n",
       "    .dataframe thead th {\n",
       "        text-align: right;\n",
       "    }\n",
       "</style>\n",
       "<table border=\"1\" class=\"dataframe\">\n",
       "  <thead>\n",
       "    <tr style=\"text-align: right;\">\n",
       "      <th></th>\n",
       "      <th>Protein.type</th>\n",
       "      <th>BW208</th>\n",
       "      <th>BW208.1</th>\n",
       "      <th>BW208.2</th>\n",
       "    </tr>\n",
       "    <tr>\n",
       "      <th>Gene</th>\n",
       "      <th></th>\n",
       "      <th></th>\n",
       "      <th></th>\n",
       "      <th></th>\n",
       "    </tr>\n",
       "  </thead>\n",
       "  <tbody>\n",
       "    <tr>\n",
       "      <th>TraesCS6A02G048900</th>\n",
       "      <td>Alpha gliadin</td>\n",
       "      <td>0.264840</td>\n",
       "      <td>0.109270</td>\n",
       "      <td>0.000000</td>\n",
       "    </tr>\n",
       "    <tr>\n",
       "      <th>TraesCS6A02G049066</th>\n",
       "      <td>Alpha gliadin</td>\n",
       "      <td>0.652935</td>\n",
       "      <td>0.026523</td>\n",
       "      <td>0.023725</td>\n",
       "    </tr>\n",
       "    <tr>\n",
       "      <th>TraesCS6A02G049100</th>\n",
       "      <td>Alpha gliadin</td>\n",
       "      <td>527.868000</td>\n",
       "      <td>62.876000</td>\n",
       "      <td>39.433700</td>\n",
       "    </tr>\n",
       "    <tr>\n",
       "      <th>TraesCS6A02G049200</th>\n",
       "      <td>Alpha gliadin</td>\n",
       "      <td>385.137000</td>\n",
       "      <td>48.879800</td>\n",
       "      <td>23.420600</td>\n",
       "    </tr>\n",
       "    <tr>\n",
       "      <th>TraesCS6A02G049400</th>\n",
       "      <td>Alpha gliadin</td>\n",
       "      <td>3.265410</td>\n",
       "      <td>0.904653</td>\n",
       "      <td>0.312157</td>\n",
       "    </tr>\n",
       "    <tr>\n",
       "      <th>...</th>\n",
       "      <td>...</td>\n",
       "      <td>...</td>\n",
       "      <td>...</td>\n",
       "      <td>...</td>\n",
       "    </tr>\n",
       "    <tr>\n",
       "      <th>TraesCS1D02G001000</th>\n",
       "      <td>Gamma gliadin</td>\n",
       "      <td>558.490000</td>\n",
       "      <td>56.040200</td>\n",
       "      <td>36.976600</td>\n",
       "    </tr>\n",
       "    <tr>\n",
       "      <th>TraesCS1D02G001100</th>\n",
       "      <td>Gamma gliadin</td>\n",
       "      <td>1285.980000</td>\n",
       "      <td>172.933000</td>\n",
       "      <td>98.335000</td>\n",
       "    </tr>\n",
       "    <tr>\n",
       "      <th>TraesCS1D02G001200</th>\n",
       "      <td>Gamma gliadin</td>\n",
       "      <td>4440.130000</td>\n",
       "      <td>503.041000</td>\n",
       "      <td>405.251000</td>\n",
       "    </tr>\n",
       "    <tr>\n",
       "      <th>TraesCS1D02G001300</th>\n",
       "      <td>Gamma gliadin</td>\n",
       "      <td>274.908000</td>\n",
       "      <td>36.801700</td>\n",
       "      <td>16.590800</td>\n",
       "    </tr>\n",
       "    <tr>\n",
       "      <th>TraesCS1D02G001400</th>\n",
       "      <td>Gamma gliadin</td>\n",
       "      <td>2321.550000</td>\n",
       "      <td>295.632000</td>\n",
       "      <td>223.718000</td>\n",
       "    </tr>\n",
       "  </tbody>\n",
       "</table>\n",
       "<p>67 rows × 4 columns</p>\n",
       "</div>"
      ],
      "text/plain": [
       "                     Protein.type        BW208     BW208.1     BW208.2\n",
       "Gene                                                                  \n",
       "TraesCS6A02G048900  Alpha gliadin     0.264840    0.109270    0.000000\n",
       "TraesCS6A02G049066  Alpha gliadin     0.652935    0.026523    0.023725\n",
       "TraesCS6A02G049100  Alpha gliadin   527.868000   62.876000   39.433700\n",
       "TraesCS6A02G049200  Alpha gliadin   385.137000   48.879800   23.420600\n",
       "TraesCS6A02G049400  Alpha gliadin     3.265410    0.904653    0.312157\n",
       "...                           ...          ...         ...         ...\n",
       "TraesCS1D02G001000  Gamma gliadin   558.490000   56.040200   36.976600\n",
       "TraesCS1D02G001100  Gamma gliadin  1285.980000  172.933000   98.335000\n",
       "TraesCS1D02G001200  Gamma gliadin  4440.130000  503.041000  405.251000\n",
       "TraesCS1D02G001300  Gamma gliadin   274.908000   36.801700   16.590800\n",
       "TraesCS1D02G001400  Gamma gliadin  2321.550000  295.632000  223.718000\n",
       "\n",
       "[67 rows x 4 columns]"
      ]
     },
     "execution_count": 54,
     "metadata": {},
     "output_type": "execute_result"
    }
   ],
   "source": [
    "data_RNA = pd.read_csv(\"./Input/RNA-seq_alpha_gamma_BW208.txt\", sep = \"\\t\", header = 0, index_col = 0)\n",
    "data_RNA"
   ]
  },
  {
   "cell_type": "markdown",
   "id": "directed-trout",
   "metadata": {},
   "source": [
    "### Import epitope sequences."
   ]
  },
  {
   "cell_type": "code",
   "execution_count": 26,
   "id": "living-annotation",
   "metadata": {},
   "outputs": [],
   "source": [
    "epitope_dict = {}\n",
    "\n",
    "epitopeFile = \"./Input/epitopes.fasta\"\n",
    "for record in SeqIO.parse(epitopeFile, \"fasta\"):\n",
    "    epitope_dict[str(record.id)] = str(record.seq)"
   ]
  },
  {
   "cell_type": "code",
   "execution_count": 27,
   "id": "adjacent-fabric",
   "metadata": {},
   "outputs": [],
   "source": [
    "peptide_dict = {}\n",
    "\n",
    "peptideFile = \"./Input/genome_alpha_gamma.fasta\"\n",
    "for record in SeqIO.parse(peptideFile, \"fasta\"):\n",
    "    peptide_dict[str(record.id)] = str(record.seq)"
   ]
  },
  {
   "cell_type": "code",
   "execution_count": 31,
   "id": "vietnamese-visiting",
   "metadata": {},
   "outputs": [],
   "source": [
    "def occurrences(string, sub):\n",
    "    count = start = 0\n",
    "    while True:\n",
    "        start = string.find(sub, start) + 1\n",
    "        if start > 0:\n",
    "            count+=1\n",
    "        else:\n",
    "            return count"
   ]
  },
  {
   "cell_type": "code",
   "execution_count": 34,
   "id": "inner-toner",
   "metadata": {},
   "outputs": [],
   "source": [
    "oc_dict = {}\n",
    "for peptide_id, peptide_seq in peptide_dict.items():\n",
    "    oc_list = []\n",
    "    for epitope_id, epitope_seq in epitope_dict.items():\n",
    "        if epitope_seq in peptide_seq:\n",
    "            oc = occurrences(peptide_seq, epitope_seq)\n",
    "        else:\n",
    "            oc = 0\n",
    "        oc_list.append(oc)\n",
    "    oc_dict[peptide_id.split(\"|\")[0]] = oc_list"
   ]
  },
  {
   "cell_type": "code",
   "execution_count": 57,
   "id": "legendary-scope",
   "metadata": {},
   "outputs": [],
   "source": [
    "data_oc = pd.DataFrame(oc_dict).transpose()\n",
    "data_oc.columns = epitope_dict.keys()\n",
    "data_final = pd.concat([data_RNA, data_oc], axis = 1)"
   ]
  },
  {
   "cell_type": "code",
   "execution_count": 73,
   "id": "current-external",
   "metadata": {},
   "outputs": [],
   "source": [
    "# alpha:\n",
    "samples = [\"BW208\", \"BW208.1\", \"BW208.2\"]\n",
    "data_alpha_RNA = data_final[data_final[\"Protein.type\"] == \"Alpha gliadin\"]\n",
    "\n",
    "alpha_dict = {}\n",
    "\n",
    "for epitope_id in epitope_dict.keys():\n",
    "    for sample in samples:\n",
    "        alpha_dict.setdefault(epitope_id, []).append(sum(data_alpha_RNA[sample]*data_alpha_RNA[epitope_id]))\n",
    "data_alpha = pd.DataFrame(alpha_dict).transpose()\n",
    "data_alpha.columns = [i + \"_alpha\" for i in samples]"
   ]
  },
  {
   "cell_type": "code",
   "execution_count": 78,
   "id": "classical-array",
   "metadata": {},
   "outputs": [],
   "source": [
    "# gamma:\n",
    "samples = [\"BW208\", \"BW208.1\", \"BW208.2\"]\n",
    "data_gamma_RNA = data_final[data_final[\"Protein.type\"] == \"Gamma gliadin\"]\n",
    "\n",
    "gamma_dict = {}\n",
    "\n",
    "for epitope_id in epitope_dict.keys():\n",
    "    for sample in samples:\n",
    "        gamma_dict.setdefault(epitope_id, []).append(sum(data_gamma_RNA[sample]*data_gamma_RNA[epitope_id]))\n",
    "data_gamma = pd.DataFrame(gamma_dict).transpose()\n",
    "data_gamma.columns = [i + \"_gamma\" for i in samples]"
   ]
  },
  {
   "cell_type": "code",
   "execution_count": 81,
   "id": "otherwise-siemens",
   "metadata": {},
   "outputs": [],
   "source": [
    "data_alpha_gamma = pd.concat([data_alpha, data_gamma], axis = 1)\n",
    "data_alpha_gamma.to_csv(\"./results/RNA_epitopes.txt\", sep = \"\\t\")"
   ]
  },
  {
   "cell_type": "code",
   "execution_count": null,
   "id": "computational-conditions",
   "metadata": {},
   "outputs": [],
   "source": []
  }
 ],
 "metadata": {
  "kernelspec": {
   "display_name": "Python 3",
   "language": "python",
   "name": "python3"
  },
  "language_info": {
   "codemirror_mode": {
    "name": "ipython",
    "version": 3
   },
   "file_extension": ".py",
   "mimetype": "text/x-python",
   "name": "python",
   "nbconvert_exporter": "python",
   "pygments_lexer": "ipython3",
   "version": "3.7.6"
  }
 },
 "nbformat": 4,
 "nbformat_minor": 5
}
