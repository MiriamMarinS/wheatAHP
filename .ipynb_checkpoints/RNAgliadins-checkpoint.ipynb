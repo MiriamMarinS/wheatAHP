{
 "cells": [
  {
   "cell_type": "code",
   "execution_count": 1,
   "id": "obvious-junior",
   "metadata": {},
   "outputs": [],
   "source": [
    "import pandas as pd\n",
    "from Bio import SeqIO"
   ]
  },
  {
   "cell_type": "markdown",
   "id": "valued-namibia",
   "metadata": {},
   "source": [
    "### Import RNA-seq data (TPM) for alpha and gamma-gliadin genes."
   ]
  },
  {
   "cell_type": "code",
   "execution_count": 5,
   "id": "appointed-diana",
   "metadata": {},
   "outputs": [
    {
     "data": {
      "text/html": [
       "<div>\n",
       "<style scoped>\n",
       "    .dataframe tbody tr th:only-of-type {\n",
       "        vertical-align: middle;\n",
       "    }\n",
       "\n",
       "    .dataframe tbody tr th {\n",
       "        vertical-align: top;\n",
       "    }\n",
       "\n",
       "    .dataframe thead th {\n",
       "        text-align: right;\n",
       "    }\n",
       "</style>\n",
       "<table border=\"1\" class=\"dataframe\">\n",
       "  <thead>\n",
       "    <tr style=\"text-align: right;\">\n",
       "      <th></th>\n",
       "      <th>Gene</th>\n",
       "      <th>Protein.type</th>\n",
       "      <th>BW208</th>\n",
       "      <th>BW208.1</th>\n",
       "      <th>BW208.2</th>\n",
       "    </tr>\n",
       "  </thead>\n",
       "  <tbody>\n",
       "    <tr>\n",
       "      <th>0</th>\n",
       "      <td>TraesCS6A02G048900</td>\n",
       "      <td>Alpha gliadin</td>\n",
       "      <td>0.264840</td>\n",
       "      <td>0.109270</td>\n",
       "      <td>0.000000</td>\n",
       "    </tr>\n",
       "    <tr>\n",
       "      <th>1</th>\n",
       "      <td>TraesCS6A02G049066</td>\n",
       "      <td>Alpha gliadin</td>\n",
       "      <td>0.652935</td>\n",
       "      <td>0.026523</td>\n",
       "      <td>0.023725</td>\n",
       "    </tr>\n",
       "    <tr>\n",
       "      <th>2</th>\n",
       "      <td>TraesCS6A02G049100</td>\n",
       "      <td>Alpha gliadin</td>\n",
       "      <td>527.868000</td>\n",
       "      <td>62.876000</td>\n",
       "      <td>39.433700</td>\n",
       "    </tr>\n",
       "    <tr>\n",
       "      <th>3</th>\n",
       "      <td>TraesCS6A02G049200</td>\n",
       "      <td>Alpha gliadin</td>\n",
       "      <td>385.137000</td>\n",
       "      <td>48.879800</td>\n",
       "      <td>23.420600</td>\n",
       "    </tr>\n",
       "    <tr>\n",
       "      <th>4</th>\n",
       "      <td>TraesCS6A02G049400</td>\n",
       "      <td>Alpha gliadin</td>\n",
       "      <td>3.265410</td>\n",
       "      <td>0.904653</td>\n",
       "      <td>0.312157</td>\n",
       "    </tr>\n",
       "    <tr>\n",
       "      <th>...</th>\n",
       "      <td>...</td>\n",
       "      <td>...</td>\n",
       "      <td>...</td>\n",
       "      <td>...</td>\n",
       "      <td>...</td>\n",
       "    </tr>\n",
       "    <tr>\n",
       "      <th>62</th>\n",
       "      <td>TraesCS1D02G001000</td>\n",
       "      <td>Gamma gliadin</td>\n",
       "      <td>558.490000</td>\n",
       "      <td>56.040200</td>\n",
       "      <td>36.976600</td>\n",
       "    </tr>\n",
       "    <tr>\n",
       "      <th>63</th>\n",
       "      <td>TraesCS1D02G001100</td>\n",
       "      <td>Gamma gliadin</td>\n",
       "      <td>1285.980000</td>\n",
       "      <td>172.933000</td>\n",
       "      <td>98.335000</td>\n",
       "    </tr>\n",
       "    <tr>\n",
       "      <th>64</th>\n",
       "      <td>TraesCS1D02G001200</td>\n",
       "      <td>Gamma gliadin</td>\n",
       "      <td>4440.130000</td>\n",
       "      <td>503.041000</td>\n",
       "      <td>405.251000</td>\n",
       "    </tr>\n",
       "    <tr>\n",
       "      <th>65</th>\n",
       "      <td>TraesCS1D02G001300</td>\n",
       "      <td>Gamma gliadin</td>\n",
       "      <td>274.908000</td>\n",
       "      <td>36.801700</td>\n",
       "      <td>16.590800</td>\n",
       "    </tr>\n",
       "    <tr>\n",
       "      <th>66</th>\n",
       "      <td>TraesCS1D02G001400</td>\n",
       "      <td>Gamma gliadin</td>\n",
       "      <td>2321.550000</td>\n",
       "      <td>295.632000</td>\n",
       "      <td>223.718000</td>\n",
       "    </tr>\n",
       "  </tbody>\n",
       "</table>\n",
       "<p>67 rows × 5 columns</p>\n",
       "</div>"
      ],
      "text/plain": [
       "                  Gene   Protein.type        BW208     BW208.1     BW208.2\n",
       "0   TraesCS6A02G048900  Alpha gliadin     0.264840    0.109270    0.000000\n",
       "1   TraesCS6A02G049066  Alpha gliadin     0.652935    0.026523    0.023725\n",
       "2   TraesCS6A02G049100  Alpha gliadin   527.868000   62.876000   39.433700\n",
       "3   TraesCS6A02G049200  Alpha gliadin   385.137000   48.879800   23.420600\n",
       "4   TraesCS6A02G049400  Alpha gliadin     3.265410    0.904653    0.312157\n",
       "..                 ...            ...          ...         ...         ...\n",
       "62  TraesCS1D02G001000  Gamma gliadin   558.490000   56.040200   36.976600\n",
       "63  TraesCS1D02G001100  Gamma gliadin  1285.980000  172.933000   98.335000\n",
       "64  TraesCS1D02G001200  Gamma gliadin  4440.130000  503.041000  405.251000\n",
       "65  TraesCS1D02G001300  Gamma gliadin   274.908000   36.801700   16.590800\n",
       "66  TraesCS1D02G001400  Gamma gliadin  2321.550000  295.632000  223.718000\n",
       "\n",
       "[67 rows x 5 columns]"
      ]
     },
     "execution_count": 5,
     "metadata": {},
     "output_type": "execute_result"
    }
   ],
   "source": [
    "data_RNA = pd.read_csv(\"./Input/RNA-seq_alpha_gamma_BW208.txt\", sep = \"\\t\", header = 0)\n",
    "data_RNA"
   ]
  },
  {
   "cell_type": "markdown",
   "id": "different-scanner",
   "metadata": {},
   "source": [
    "### Import epitope sequences."
   ]
  },
  {
   "cell_type": "code",
   "execution_count": 6,
   "id": "promotional-batman",
   "metadata": {},
   "outputs": [],
   "source": [
    "epitope_seq = {}\n",
    "\n",
    "epitopeFile = \"./Input/epitopes.fasta\"\n",
    "for record in SeqIO.parse(epitopeFile, \"fasta\"):\n",
    "    epitope_seq[str(record.id)] = str(record.seq)"
   ]
  },
  {
   "cell_type": "code",
   "execution_count": 10,
   "id": "domestic-appraisal",
   "metadata": {},
   "outputs": [],
   "source": [
    "peptide_seq = {}\n",
    "\n",
    "peptideFile = \"./Input/genome_alpha_gamma.fasta\"\n",
    "for record in SeqIO.parse(peptideFile, \"fasta\"):\n",
    "    peptide_seq[str(record.id)] = str(record.seq)"
   ]
  },
  {
   "cell_type": "code",
   "execution_count": 12,
   "id": "accompanied-pension",
   "metadata": {},
   "outputs": [],
   "source": [
    "def occurrences(string, sub):\n",
    "    count = start = 0\n",
    "    while True:\n",
    "        start = string.find(sub, start) + 1\n",
    "        if start > 0:\n",
    "            count+=1\n",
    "        else:\n",
    "            return count"
   ]
  },
  {
   "cell_type": "code",
   "execution_count": null,
   "id": "distinguished-upper",
   "metadata": {},
   "outputs": [],
   "source": [
    "for epitope_id, seq in epitope_seq.items():\n",
    "    "
   ]
  },
  {
   "cell_type": "code",
   "execution_count": null,
   "id": "suitable-transition",
   "metadata": {},
   "outputs": [],
   "source": [
    "for index, row in data_RNA.iterrows():\n",
    "    \n",
    "    if row[\"Gene\"]"
   ]
  }
 ],
 "metadata": {
  "kernelspec": {
   "display_name": "Python 3",
   "language": "python",
   "name": "python3"
  },
  "language_info": {
   "codemirror_mode": {
    "name": "ipython",
    "version": 3
   },
   "file_extension": ".py",
   "mimetype": "text/x-python",
   "name": "python",
   "nbconvert_exporter": "python",
   "pygments_lexer": "ipython3",
   "version": "3.7.6"
  }
 },
 "nbformat": 4,
 "nbformat_minor": 5
}
